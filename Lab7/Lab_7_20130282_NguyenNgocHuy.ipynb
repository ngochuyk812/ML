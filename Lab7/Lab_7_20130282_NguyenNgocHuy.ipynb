{
  "nbformat": 4,
  "nbformat_minor": 0,
  "metadata": {
    "colab": {
      "provenance": []
    },
    "kernelspec": {
      "name": "python3",
      "display_name": "Python 3"
    },
    "language_info": {
      "name": "python"
    }
  },
  "cells": [
    {
      "cell_type": "markdown",
      "source": [
        "# This lab deals with **cross validation** for some classification algorithms and **clustering methods**. \n",
        "\n",
        "*   **Deadline: 23:59, 10/4/2023**\n",
        "\n"
      ],
      "metadata": {
        "id": "LMzehe0sy5wr"
      }
    },
    {
      "cell_type": "markdown",
      "source": [
        "# Import libraries"
      ],
      "metadata": {
        "id": "H4nJmxp9zGX4"
      }
    },
    {
      "cell_type": "code",
      "execution_count": 142,
      "metadata": {
        "id": "DoVWQ8AEyc-C"
      },
      "outputs": [],
      "source": [
        "from sklearn import datasets\n",
        "import sklearn.svm as svm\n",
        "from sklearn.model_selection import cross_validate\n",
        "from sklearn.model_selection import KFold\n",
        "from sklearn.model_selection import cross_val_score\n",
        "import numpy as np\n",
        "import pandas as pd\n",
        "from sklearn.metrics import f1_score, make_scorer, recall_score, precision_score\n",
        "from prettytable import PrettyTable\n",
        "from sklearn.cluster import AgglomerativeClustering\n",
        "from sklearn.ensemble import ExtraTreesClassifier\n",
        "from sklearn.cluster import KMeans\n",
        "from sklearn.ensemble import RandomForestClassifier\n",
        "from sklearn.preprocessing import StandardScaler\n",
        "import sklearn.metrics as metrics\n",
        "import warnings\n",
        "warnings.filterwarnings('ignore')\n",
        "from scipy.stats import mode\n",
        "import matplotlib.pyplot as plt\n",
        "from sklearn.naive_bayes import GaussianNB\n",
        "from sklearn.neighbors import KNeighborsClassifier\n",
        "from sklearn.metrics import accuracy_score\n",
        "from google.colab import drive\n",
        "from matplotlib import pyplot as plt\n",
        "from scipy.cluster.hierarchy import dendrogram, linkage\n",
        "import scipy.cluster.hierarchy as shc\n",
        "from sklearn.metrics import silhouette_score\n",
        "\n",
        "from sklearn import preprocessing\n",
        "  \n"
      ]
    },
    {
      "cell_type": "markdown",
      "source": [
        "#Task 1. With **iris** dataset\n",
        "*  1.1. Apply **SVM** algorithm with cross validation\n"
      ],
      "metadata": {
        "id": "x_dG9SA5OhGT"
      }
    },
    {
      "cell_type": "code",
      "source": [
        "data_iris = datasets.load_iris()\n",
        "SVM = svm.SVC(kernel='linear')\n",
        "X = data_iris[\"data\"]\n",
        "Y = data_iris[\"target\"]\n",
        "\n",
        "scores = cross_validate(SVM, X, Y, scoring='accuracy', cv = 10)\n",
        "print(scores.keys())\n",
        "print(\"fit_time\",\": \",np.mean(scores['fit_time']))\n",
        "print(\"score_time\",\": \",np.mean(scores['score_time']))\n",
        "print(\"test_score\",\": \",np.mean(scores['test_score']))\n",
        "\n"
      ],
      "metadata": {
        "id": "62jExOZ952fF",
        "colab": {
          "base_uri": "https://localhost:8080/"
        },
        "outputId": "5ab626fe-6f8d-4ad0-d0da-e1d1600744d5"
      },
      "execution_count": 53,
      "outputs": [
        {
          "output_type": "stream",
          "name": "stdout",
          "text": [
            "dict_keys(['fit_time', 'score_time', 'test_score'])\n",
            "fit_time :  0.0015204906463623046\n",
            "score_time :  0.0009534835815429687\n",
            "test_score :  0.9733333333333334\n"
          ]
        }
      ]
    },
    {
      "cell_type": "markdown",
      "source": [
        "*  1.2 Apply **feature selection** to the dataset and then use **RandomForest** algorithm with cross validation "
      ],
      "metadata": {
        "id": "2g--8cng53sY"
      }
    },
    {
      "cell_type": "code",
      "source": [
        "model = ExtraTreesClassifier(n_estimators=10)\n",
        "model.fit(X, Y)\n",
        "print(model.feature_importances_)\n",
        "X = data_iris[\"data\"][:,[0,2,3]]\n",
        "scores = cross_validate(SVM, X, Y, scoring='accuracy', cv = 10)\n",
        "print(scores.keys())\n",
        "print(\"fit_time\",\": \",np.mean(scores['fit_time']))\n",
        "print(\"score_time\",\": \",np.mean(scores['score_time']))\n",
        "print(\"test_score\",\": \",np.mean(scores['test_score']))"
      ],
      "metadata": {
        "id": "fX0_kItYPism",
        "colab": {
          "base_uri": "https://localhost:8080/"
        },
        "outputId": "e464b7ca-496d-40ea-d457-52c5a16f0306"
      },
      "execution_count": null,
      "outputs": [
        {
          "output_type": "stream",
          "name": "stdout",
          "text": [
            "[0.06806127 0.05199163 0.55705006 0.32289703]\n",
            "dict_keys(['fit_time', 'score_time', 'test_score'])\n",
            "fit_time :  0.0010059833526611327\n",
            "score_time :  0.000681757926940918\n",
            "test_score :  0.9800000000000001\n"
          ]
        }
      ]
    },
    {
      "cell_type": "markdown",
      "source": [
        "#Task 2. With mnist dataset: \n",
        "*   2.1. Apply **K-Means** algorithm using k=10, "
      ],
      "metadata": {
        "id": "kNv07ARGzOUm"
      }
    },
    {
      "cell_type": "code",
      "source": [
        "mnist = datasets.load_digits()\n",
        "X = mnist[\"data\"]\n",
        "y = mnist[\"target\"]\n",
        "kmeans = KMeans(n_clusters = 10, random_state = 0)\n",
        "kmeans.fit(X)\n",
        "clusters = kmeans.predict(X)\n",
        "sse = []\n",
        "scaler = StandardScaler().fit_transform(X)\n",
        "for k in range(1, 11):\n",
        " kmeans = KMeans(n_clusters=k, random_state = 0)\n",
        " kmeans.fit(scaler)\n",
        " sse.append(kmeans.inertia_)\n"
      ],
      "metadata": {
        "id": "sOsg77IBzEyo"
      },
      "execution_count": 63,
      "outputs": []
    },
    {
      "cell_type": "code",
      "source": [
        "sse"
      ],
      "metadata": {
        "colab": {
          "base_uri": "https://localhost:8080/"
        },
        "id": "scBN5CZAegQu",
        "outputId": "be6bdb74-ed9e-49e3-8081-072cbe89627e"
      },
      "execution_count": 64,
      "outputs": [
        {
          "output_type": "execute_result",
          "data": {
            "text/plain": [
              "[109617.00000000015,\n",
              " 100423.84303432597,\n",
              " 93835.95523037438,\n",
              " 89119.53604390801,\n",
              " 85200.33453063252,\n",
              " 81750.63880486702,\n",
              " 78352.79261928733,\n",
              " 74931.94548288759,\n",
              " 72235.06320625162,\n",
              " 69437.29782182128]"
            ]
          },
          "metadata": {},
          "execution_count": 64
        }
      ]
    },
    {
      "cell_type": "code",
      "source": [],
      "metadata": {
        "id": "HJ1gGI8enRg-"
      },
      "execution_count": null,
      "outputs": []
    },
    {
      "cell_type": "code",
      "source": [
        "labels = np.zeros_like(clusters)\n",
        "for i in range(10):\n",
        " mask = (clusters == i)\n",
        " labels[mask] = mode(mnist.target[mask])[0]\n",
        "\n",
        "accuraryKMeans = metrics.accuracy_score(mnist.target, labels)\n",
        "precision_KMeans = precision_score(mnist.target, labels , average = 'micro')\n",
        "recall_KMeans = recall_score(mnist.target, labels , average = 'micro')\n",
        "f1_KMeans = f1_score(mnist.target, labels , average = 'micro')\n"
      ],
      "metadata": {
        "id": "vzXv6PEEc3dU"
      },
      "execution_count": 66,
      "outputs": []
    },
    {
      "cell_type": "markdown",
      "source": [
        "*   2.2. Compare the obtained result with with other classification algorithms such as **Randomforest**, **kNN**, and **Naïve Bayes** in terms of accuracy, precision, recall, f1 using cross validation. \n"
      ],
      "metadata": {
        "id": "pnoVB8J4vV36"
      }
    },
    {
      "cell_type": "code",
      "source": [
        "def train_model(type,X, y):\n",
        "  model = ''\n",
        "  name = ''\n",
        "  if(type == 0):\n",
        "    name = \"Random Forest\"\n",
        "    model=RandomForestClassifier(n_estimators=100)\n",
        "  if(type == 1):\n",
        "    name = \"NB\"\n",
        "    model = GaussianNB()\n",
        "  if(type == 2):\n",
        "    name = \"kNN\"\n",
        "    model = KNeighborsClassifier(n_neighbors=3)\n",
        " \n",
        "  accuracy =cross_validate(model, X, y, scoring='accuracy', cv = 10)['test_score'].mean()\n",
        "  precision =cross_validate(model, X, y, scoring=make_scorer(precision_score, average='micro'), cv = 10)['test_score'].mean()\n",
        "  recall = cross_validate(model, X, y, scoring=make_scorer( recall_score, average='micro'), cv = 10)['test_score'].mean()\n",
        "  f1 = cross_validate(model, X, y, scoring=make_scorer(f1_score, average='micro'), cv = 10)['test_score'].mean()\n",
        "  return [name,round(accuracy,4),round(precision,4),round(recall,4),round(f1,4)]"
      ],
      "metadata": {
        "id": "-ZTSvsJdvYqI"
      },
      "execution_count": 74,
      "outputs": []
    },
    {
      "cell_type": "code",
      "source": [
        "mnist = datasets.load_digits()\n",
        "X = mnist[\"data\"]\n",
        "y = mnist[\"target\"]"
      ],
      "metadata": {
        "id": "x01GUqpfmAyK"
      },
      "execution_count": 84,
      "outputs": []
    },
    {
      "cell_type": "code",
      "source": [
        "t = PrettyTable([\"Model\",\"Accuracy\", \"Precision\",\"Recall\", \"F1\"])\n",
        "t.add_row(train_model(0,X, y))\n",
        "t.add_row(train_model(1,X, y))\n",
        "t.add_row(train_model(2,X, y))\n",
        "t.add_row([\"KMeans\",round(accuraryKMeans,4),round(precision_KMeans,4) ,round(recall_KMeans,4) ,round(f1_KMeans,4) ])\n"
      ],
      "metadata": {
        "id": "zLhBpeWVuamE"
      },
      "execution_count": 75,
      "outputs": []
    },
    {
      "cell_type": "code",
      "source": [
        "print(t)"
      ],
      "metadata": {
        "colab": {
          "base_uri": "https://localhost:8080/"
        },
        "id": "3OUg58bfvBUD",
        "outputId": "7e976965-51d0-40dd-dd02-167ac20934d6"
      },
      "execution_count": 76,
      "outputs": [
        {
          "output_type": "stream",
          "name": "stdout",
          "text": [
            "+---------------+----------+-----------+--------+--------+\n",
            "|     Model     | Accuracy | Precision | Recall |   F1   |\n",
            "+---------------+----------+-----------+--------+--------+\n",
            "| Random Forest |  0.9493  |   0.9493  | 0.9471 | 0.9471 |\n",
            "|       NB      |  0.8114  |   0.8114  | 0.8114 | 0.8114 |\n",
            "|      kNN      |  0.9766  |   0.9766  | 0.9766 | 0.9766 |\n",
            "|     KMeans    |  0.7935  |   0.7935  | 0.7935 | 0.7935 |\n",
            "+---------------+----------+-----------+--------+--------+\n"
          ]
        }
      ]
    },
    {
      "cell_type": "markdown",
      "source": [
        "*   2.3. From the obtained results, **which approach is better** for this problem: Supervised learning or Unsupervised learning?"
      ],
      "metadata": {
        "id": "uyey-ndXvZlb"
      }
    },
    {
      "cell_type": "code",
      "source": [
        "Với kết quả thu được từ dataset trên thì học có giám sát tốt hơn"
      ],
      "metadata": {
        "id": "Qzh_D-rgvbv9"
      },
      "execution_count": null,
      "outputs": []
    },
    {
      "cell_type": "markdown",
      "source": [
        ":2.4. Apply **AgglomerativeClustering** algorithm to mnist dataset using the number of clusters is 10"
      ],
      "metadata": {
        "id": "ol1U_T_NvcqV"
      }
    },
    {
      "cell_type": "code",
      "source": [
        "clustering = AgglomerativeClustering(n_clusters=10)\n",
        "clustering = clustering.fit_predict(X)\n",
        "\n",
        "labels = np.zeros_like(clustering)\n",
        "for i in range(10):\n",
        " mask = (clustering == i)\n",
        " labels[mask] = mode(mnist.target[mask])[0]\n",
        "\n",
        "accuraryAgglomerativeClustering = metrics.accuracy_score(mnist.target, labels)\n",
        "precision_AgglomerativeClustering = precision_score(mnist.target, labels , average = 'micro')\n",
        "recall_AgglomerativeClustering = recall_score(mnist.target, labels , average = 'micro')\n",
        "f1_AgglomerativeClustering = f1_score(mnist.target, labels , average = 'micro')\n"
      ],
      "metadata": {
        "id": "8Jcz76kiyChB"
      },
      "execution_count": 96,
      "outputs": []
    },
    {
      "cell_type": "code",
      "source": [
        "t = PrettyTable([\"Model\",\"Accuracy\", \"Precision\",\"Recall\", \"F1\"])\n",
        "t.add_row([\"AgglomerativeClustering\",round(accuraryAgglomerativeClustering,4),round(precision_AgglomerativeClustering,4) ,round(recall_AgglomerativeClustering,4) ,round(f1_AgglomerativeClustering,4) ])\n",
        "print(t)"
      ],
      "metadata": {
        "colab": {
          "base_uri": "https://localhost:8080/"
        },
        "id": "KEhp7QUfyRZY",
        "outputId": "2d0ff0da-3a53-4dda-bb4e-5f8cfa69874a"
      },
      "execution_count": 99,
      "outputs": [
        {
          "output_type": "stream",
          "name": "stdout",
          "text": [
            "+-------------------------+----------+-----------+--------+-------+\n",
            "|          Model          | Accuracy | Precision | Recall |   F1  |\n",
            "+-------------------------+----------+-----------+--------+-------+\n",
            "| AgglomerativeClustering |  0.862   |   0.862   | 0.862  | 0.862 |\n",
            "+-------------------------+----------+-----------+--------+-------+\n"
          ]
        }
      ]
    },
    {
      "cell_type": "markdown",
      "source": [
        "#Task 3. \n",
        "For given dataset (shopping-data.csv) including 5 attributes: **CustomerID**, **Genre**, **Age**, **Annual Income**, and **Spending Score**.\n",
        "*   3.1. Using the **scipy library** to create the dendrograms for the given dataset (remember drop categorical attributes: **CustomerID**, **Genre**)\n",
        "\n",
        "\n",
        "\n"
      ],
      "metadata": {
        "id": "b52OPWPD2afi"
      }
    },
    {
      "cell_type": "code",
      "source": [
        "drive.mount('/content/gdrive')\n",
        "%cd '/content/gdrive/MyDrive/Data/'"
      ],
      "metadata": {
        "colab": {
          "base_uri": "https://localhost:8080/"
        },
        "id": "NZcPaiN-0GNn",
        "outputId": "2df50ef6-4ddd-4570-9253-52f20e4e24b7"
      },
      "execution_count": 101,
      "outputs": [
        {
          "output_type": "stream",
          "name": "stdout",
          "text": [
            "Mounted at /content/gdrive\n",
            "/content/gdrive/MyDrive/Data\n"
          ]
        }
      ]
    },
    {
      "cell_type": "code",
      "source": [
        "data=pd.read_csv('shopping-data.csv')\n",
        "data.columns\n",
        "X = data[[ 'Age', 'Annual Income (k$)','Spending Score (1-100)']]\n",
        "plt.figure(figsize=(10, 7))\n",
        "plt.title(\"Customer Dendograms\")\n",
        "dend = shc.dendrogram(shc.linkage(X, method='ward'))"
      ],
      "metadata": {
        "id": "YYY2dLtH3P8H",
        "colab": {
          "base_uri": "https://localhost:8080/",
          "height": 621
        },
        "outputId": "a90cc502-fb60-48e6-9b7a-cc332e445783"
      },
      "execution_count": 114,
      "outputs": [
        {
          "output_type": "display_data",
          "data": {
            "text/plain": [
              "<Figure size 1000x700 with 1 Axes>"
            ],
            "image/png": "[encoded data removed]"
          },
          "metadata": {}
        }
      ]
    },
    {
      "cell_type": "markdown",
      "source": [
        "*   3.2. Apply K-Means to the preprocessed dataset with k belongs to [2,10]. Then compute SSE values and plot them to find the best value of k."
      ],
      "metadata": {
        "id": "eHlh_dWUyEMr"
      }
    },
    {
      "cell_type": "code",
      "source": [
        "label_encoder = preprocessing.LabelEncoder()\n",
        "data['Genre']= label_encoder.fit_transform(data['Genre'])"
      ],
      "metadata": {
        "id": "DRw4RCqu6xar"
      },
      "execution_count": 134,
      "outputs": []
    },
    {
      "cell_type": "code",
      "source": [
        "\n",
        "X = data.iloc[:,:].values\n",
        "sse = []\n",
        "listK = list(range(2, 11))\n",
        "for k in listK:\n",
        " kmeans = KMeans(n_clusters=k, random_state = 0)\n",
        " kmeans.fit(X)\n",
        " sse.append(kmeans.inertia_)\n",
        "\n",
        "plt.plot(listK, sse, 'bx-')\n",
        "plt.xlabel('k')\n",
        "plt.ylabel('SSE')\n",
        "plt.title('Find The Best Value')\n",
        "plt.show()"
      ],
      "metadata": {
        "id": "8vx3mfIidu4P",
        "colab": {
          "base_uri": "https://localhost:8080/",
          "height": 472
        },
        "outputId": "b1e2fb8a-0939-47dc-e2cd-ac32673ca352"
      },
      "execution_count": 135,
      "outputs": [
        {
          "output_type": "display_data",
          "data": {
            "text/plain": [
              "<Figure size 640x480 with 1 Axes>"
            ],
            "image/png": "[encoded data removed]"
          },
          "metadata": {}
        }
      ]
    },
    {
      "cell_type": "code",
      "source": [
        "kmeans = KMeans(n_clusters = 10, random_state = 0).fit(X)\n"
      ],
      "metadata": {
        "id": "5HG_2bgy4R1V"
      },
      "execution_count": 145,
      "outputs": []
    },
    {
      "cell_type": "code",
      "source": [
        "silhouette_avg = silhouette_score(data, kmeans.labels_)\n",
        "print(\"Silhouette Score:\", silhouette_avg)"
      ],
      "metadata": {
        "colab": {
          "base_uri": "https://localhost:8080/"
        },
        "id": "1yC65jof6tbk",
        "outputId": "deb6777f-32da-41fe-e9dd-2caa4709c081"
      },
      "execution_count": 146,
      "outputs": [
        {
          "output_type": "stream",
          "name": "stdout",
          "text": [
            "Silhouette Score: 0.39803968212964774\n"
          ]
        }
      ]
    },
    {
      "cell_type": "markdown",
      "source": [
        "*   3.2. From the obtained dengrograms, choose an appropriate number of clusters and apply **AgglomerativeClustering** algorithm to the given dataset"
      ],
      "metadata": {
        "id": "RJpsTIiyv-1h"
      }
    },
    {
      "cell_type": "code",
      "source": [
        "optimize = set(dend['color_list'])\n",
        "optimize = len(optimize) - 1\n",
        "clustering = AgglomerativeClustering(n_clusters=optimize)\n",
        "clustering = clustering.fit_predict(X)\n",
        "clustering"
      ],
      "metadata": {
        "id": "5ZE7A0Au1Pg0",
        "colab": {
          "base_uri": "https://localhost:8080/"
        },
        "outputId": "75bf26d7-1c3d-4c1f-a0fe-472956663c1c"
      },
      "execution_count": 154,
      "outputs": [
        {
          "output_type": "execute_result",
          "data": {
            "text/plain": [
              "array([1, 1, 1, 1, 1, 1, 1, 1, 1, 1, 1, 1, 1, 1, 1, 1, 1, 1, 1, 1, 1, 1,\n",
              "       1, 1, 1, 1, 1, 1, 1, 1, 1, 1, 1, 1, 1, 1, 1, 1, 1, 1, 1, 1, 1, 1,\n",
              "       1, 1, 1, 1, 1, 1, 1, 1, 1, 1, 1, 1, 1, 1, 1, 1, 1, 2, 1, 1, 1, 2,\n",
              "       2, 1, 2, 2, 1, 2, 1, 1, 1, 2, 2, 2, 2, 2, 1, 2, 1, 2, 2, 2, 2, 2,\n",
              "       2, 2, 2, 2, 2, 2, 2, 2, 2, 2, 2, 2, 2, 2, 2, 2, 2, 2, 2, 2, 2, 2,\n",
              "       2, 2, 2, 2, 2, 2, 2, 2, 2, 2, 2, 2, 2, 0, 0, 0, 2, 0, 0, 0, 0, 0,\n",
              "       0, 0, 0, 0, 0, 0, 0, 0, 0, 0, 0, 0, 0, 0, 0, 0, 0, 0, 0, 0, 0, 0,\n",
              "       0, 0, 0, 0, 0, 0, 0, 0, 0, 0, 0, 0, 0, 0, 0, 0, 0, 0, 0, 0, 0, 0,\n",
              "       0, 0, 0, 0, 0, 0, 0, 0, 0, 0, 0, 0, 0, 0, 0, 0, 0, 0, 0, 0, 0, 0,\n",
              "       0, 0])"
            ]
          },
          "metadata": {},
          "execution_count": 154
        }
      ]
    },
    {
      "cell_type": "markdown",
      "source": [
        "#Finally,\n",
        "Save a copy in your Github. Remember renaming the notebook."
      ],
      "metadata": {
        "id": "Ok7RGkea_b7n"
      }
    }
  ]
}