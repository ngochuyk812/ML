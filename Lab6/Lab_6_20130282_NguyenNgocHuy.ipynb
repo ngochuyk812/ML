{
  "nbformat": 4,
  "nbformat_minor": 0,
  "metadata": {
    "colab": {
      "provenance": []
    },
    "kernelspec": {
      "name": "python3",
      "display_name": "Python 3"
    },
    "language_info": {
      "name": "python"
    }
  },
  "cells": [
    {
      "cell_type": "markdown",
      "source": [
        "# This lab is to deal with classification task using **Random Forests** and **Naïve Bayes** algorithms with/without **Feature Selection**. \n",
        "\n",
        "*   **Deadline: 23:59, 25/03/2023**\n",
        "\n"
      ],
      "metadata": {
        "id": "LMzehe0sy5wr"
      }
    },
    {
      "cell_type": "markdown",
      "source": [
        "# Import libraries"
      ],
      "metadata": {
        "id": "H4nJmxp9zGX4"
      }
    },
    {
      "cell_type": "code",
      "execution_count": null,
      "metadata": {
        "id": "DoVWQ8AEyc-C"
      },
      "outputs": [],
      "source": [
        "from sklearn import datasets\n",
        "from sklearn.ensemble import RandomForestClassifier\n",
        "from sklearn.model_selection import train_test_split\n",
        "from sklearn.feature_selection import RFE\n",
        "from sklearn.linear_model import LogisticRegression\n",
        "import pandas as pd\n",
        "import  sklearn.feature_selection as fs\n",
        "from sklearn.ensemble import ExtraTreesClassifier\n",
        "import matplotlib.pyplot as plt\n",
        "import seaborn as sns\n",
        "import numpy as np\n",
        "import sklearn.metrics as metrics\n",
        "from prettytable import PrettyTable\n",
        "from google.colab import drive\n",
        "from sklearn.preprocessing import StandardScaler\n",
        "from sklearn.naive_bayes import GaussianNB\n",
        "from sklearn import feature_selection\n",
        "from sklearn.linear_model import LogisticRegression\n",
        "import sklearn.svm as svm\n",
        "\n",
        "from sklearn.neighbors import KNeighborsClassifier\n",
        "from sklearn.tree import DecisionTreeClassifier\n",
        "from sklearn.preprocessing import OneHotEncoder, LabelEncoder"
      ]
    },
    {
      "cell_type": "code",
      "source": [],
      "metadata": {
        "id": "E7rRV3oZQ5f_"
      },
      "execution_count": null,
      "outputs": []
    },
    {
      "cell_type": "markdown",
      "source": [
        "#Task 1. \n",
        "Task 1. Compare the performance of selected classification algorithms including **Random forest**, **NaiveBayes**, and **SVM** with **mnist** dataset based on **accuracy, precision, recall, f1** measures according to **without using selection feature** and **using selection feature**.\n",
        "\n"
      ],
      "metadata": {
        "id": "kNv07ARGzOUm"
      }
    },
    {
      "cell_type": "code",
      "source": [
        "mnist = datasets.load_digits()\n",
        "X = mnist['data']\n",
        "y = mnist['target']\n",
        "print(mnist)\n",
        "print()\n"
      ],
      "metadata": {
        "id": "sOsg77IBzEyo",
        "colab": {
          "base_uri": "https://localhost:8080/"
        },
        "outputId": "ac8da341-a003-412c-8910-57b9dcd9d7b3"
      },
      "execution_count": null,
      "outputs": [
        {
          "output_type": "stream",
          "name": "stdout",
          "text": [
            "{'data': array([[ 0.,  0.,  5., ...,  0.,  0.,  0.],\n",
            "       [ 0.,  0.,  0., ..., 10.,  0.,  0.],\n",
            "       [ 0.,  0.,  0., ..., 16.,  9.,  0.],\n",
            "       ...,\n",
            "       [ 0.,  0.,  1., ...,  6.,  0.,  0.],\n",
            "       [ 0.,  0.,  2., ..., 12.,  0.,  0.],\n",
            "       [ 0.,  0., 10., ..., 12.,  1.,  0.]]), 'target': array([0, 1, 2, ..., 8, 9, 8]), 'frame': None, 'feature_names': ['pixel_0_0', 'pixel_0_1', 'pixel_0_2', 'pixel_0_3', 'pixel_0_4', 'pixel_0_5', 'pixel_0_6', 'pixel_0_7', 'pixel_1_0', 'pixel_1_1', 'pixel_1_2', 'pixel_1_3', 'pixel_1_4', 'pixel_1_5', 'pixel_1_6', 'pixel_1_7', 'pixel_2_0', 'pixel_2_1', 'pixel_2_2', 'pixel_2_3', 'pixel_2_4', 'pixel_2_5', 'pixel_2_6', 'pixel_2_7', 'pixel_3_0', 'pixel_3_1', 'pixel_3_2', 'pixel_3_3', 'pixel_3_4', 'pixel_3_5', 'pixel_3_6', 'pixel_3_7', 'pixel_4_0', 'pixel_4_1', 'pixel_4_2', 'pixel_4_3', 'pixel_4_4', 'pixel_4_5', 'pixel_4_6', 'pixel_4_7', 'pixel_5_0', 'pixel_5_1', 'pixel_5_2', 'pixel_5_3', 'pixel_5_4', 'pixel_5_5', 'pixel_5_6', 'pixel_5_7', 'pixel_6_0', 'pixel_6_1', 'pixel_6_2', 'pixel_6_3', 'pixel_6_4', 'pixel_6_5', 'pixel_6_6', 'pixel_6_7', 'pixel_7_0', 'pixel_7_1', 'pixel_7_2', 'pixel_7_3', 'pixel_7_4', 'pixel_7_5', 'pixel_7_6', 'pixel_7_7'], 'target_names': array([0, 1, 2, 3, 4, 5, 6, 7, 8, 9]), 'images': array([[[ 0.,  0.,  5., ...,  1.,  0.,  0.],\n",
            "        [ 0.,  0., 13., ..., 15.,  5.,  0.],\n",
            "        [ 0.,  3., 15., ..., 11.,  8.,  0.],\n",
            "        ...,\n",
            "        [ 0.,  4., 11., ..., 12.,  7.,  0.],\n",
            "        [ 0.,  2., 14., ..., 12.,  0.,  0.],\n",
            "        [ 0.,  0.,  6., ...,  0.,  0.,  0.]],\n",
            "\n",
            "       [[ 0.,  0.,  0., ...,  5.,  0.,  0.],\n",
            "        [ 0.,  0.,  0., ...,  9.,  0.,  0.],\n",
            "        [ 0.,  0.,  3., ...,  6.,  0.,  0.],\n",
            "        ...,\n",
            "        [ 0.,  0.,  1., ...,  6.,  0.,  0.],\n",
            "        [ 0.,  0.,  1., ...,  6.,  0.,  0.],\n",
            "        [ 0.,  0.,  0., ..., 10.,  0.,  0.]],\n",
            "\n",
            "       [[ 0.,  0.,  0., ..., 12.,  0.,  0.],\n",
            "        [ 0.,  0.,  3., ..., 14.,  0.,  0.],\n",
            "        [ 0.,  0.,  8., ..., 16.,  0.,  0.],\n",
            "        ...,\n",
            "        [ 0.,  9., 16., ...,  0.,  0.,  0.],\n",
            "        [ 0.,  3., 13., ..., 11.,  5.,  0.],\n",
            "        [ 0.,  0.,  0., ..., 16.,  9.,  0.]],\n",
            "\n",
            "       ...,\n",
            "\n",
            "       [[ 0.,  0.,  1., ...,  1.,  0.,  0.],\n",
            "        [ 0.,  0., 13., ...,  2.,  1.,  0.],\n",
            "        [ 0.,  0., 16., ..., 16.,  5.,  0.],\n",
            "        ...,\n",
            "        [ 0.,  0., 16., ..., 15.,  0.,  0.],\n",
            "        [ 0.,  0., 15., ..., 16.,  0.,  0.],\n",
            "        [ 0.,  0.,  2., ...,  6.,  0.,  0.]],\n",
            "\n",
            "       [[ 0.,  0.,  2., ...,  0.,  0.,  0.],\n",
            "        [ 0.,  0., 14., ..., 15.,  1.,  0.],\n",
            "        [ 0.,  4., 16., ..., 16.,  7.,  0.],\n",
            "        ...,\n",
            "        [ 0.,  0.,  0., ..., 16.,  2.,  0.],\n",
            "        [ 0.,  0.,  4., ..., 16.,  2.,  0.],\n",
            "        [ 0.,  0.,  5., ..., 12.,  0.,  0.]],\n",
            "\n",
            "       [[ 0.,  0., 10., ...,  1.,  0.,  0.],\n",
            "        [ 0.,  2., 16., ...,  1.,  0.,  0.],\n",
            "        [ 0.,  0., 15., ..., 15.,  0.,  0.],\n",
            "        ...,\n",
            "        [ 0.,  4., 16., ..., 16.,  6.,  0.],\n",
            "        [ 0.,  8., 16., ..., 16.,  8.,  0.],\n",
            "        [ 0.,  1.,  8., ..., 12.,  1.,  0.]]]), 'DESCR': \".. _digits_dataset:\\n\\nOptical recognition of handwritten digits dataset\\n--------------------------------------------------\\n\\n**Data Set Characteristics:**\\n\\n    :Number of Instances: 1797\\n    :Number of Attributes: 64\\n    :Attribute Information: 8x8 image of integer pixels in the range 0..16.\\n    :Missing Attribute Values: None\\n    :Creator: E. Alpaydin (alpaydin '@' boun.edu.tr)\\n    :Date: July; 1998\\n\\nThis is a copy of the test set of the UCI ML hand-written digits datasets\\nhttps://archive.ics.uci.edu/ml/datasets/Optical+Recognition+of+Handwritten+Digits\\n\\nThe data set contains images of hand-written digits: 10 classes where\\neach class refers to a digit.\\n\\nPreprocessing programs made available by NIST were used to extract\\nnormalized bitmaps of handwritten digits from a preprinted form. From a\\ntotal of 43 people, 30 contributed to the training set and different 13\\nto the test set. 32x32 bitmaps are divided into nonoverlapping blocks of\\n4x4 and the number of on pixels are counted in each block. This generates\\nan input matrix of 8x8 where each element is an integer in the range\\n0..16. This reduces dimensionality and gives invariance to small\\ndistortions.\\n\\nFor info on NIST preprocessing routines, see M. D. Garris, J. L. Blue, G.\\nT. Candela, D. L. Dimmick, J. Geist, P. J. Grother, S. A. Janet, and C.\\nL. Wilson, NIST Form-Based Handprint Recognition System, NISTIR 5469,\\n1994.\\n\\n.. topic:: References\\n\\n  - C. Kaynak (1995) Methods of Combining Multiple Classifiers and Their\\n    Applications to Handwritten Digit Recognition, MSc Thesis, Institute of\\n    Graduate Studies in Science and Engineering, Bogazici University.\\n  - E. Alpaydin, C. Kaynak (1998) Cascading Classifiers, Kybernetika.\\n  - Ken Tang and Ponnuthurai N. Suganthan and Xi Yao and A. Kai Qin.\\n    Linear dimensionalityreduction using relevance weighted LDA. School of\\n    Electrical and Electronic Engineering Nanyang Technological University.\\n    2005.\\n  - Claudio Gentile. A New Approximate Maximal Margin Classification\\n    Algorithm. NIPS. 2000.\\n\"}\n",
            "\n"
          ]
        }
      ]
    },
    {
      "cell_type": "code",
      "source": [
        "model = ExtraTreesClassifier(n_estimators=10)\n",
        "model.fit(X, y)\n",
        "print(model.feature_importances_)"
      ],
      "metadata": {
        "colab": {
          "base_uri": "https://localhost:8080/"
        },
        "id": "VLX6tKHYSa90",
        "outputId": "91521bbd-b804-4206-a1d8-db287605cfd8"
      },
      "execution_count": null,
      "outputs": [
        {
          "output_type": "stream",
          "name": "stdout",
          "text": [
            "[0.00000000e+00 4.14823084e-03 2.26838203e-02 1.16030430e-02\n",
            " 1.02411557e-02 2.29235334e-02 1.29196255e-02 1.37543806e-03\n",
            " 1.21899138e-04 1.10495292e-02 2.57983947e-02 7.93631567e-03\n",
            " 1.27032480e-02 3.62254496e-02 5.26512876e-03 2.11480556e-03\n",
            " 0.00000000e+00 8.92963339e-03 1.62834261e-02 2.77126844e-02\n",
            " 3.25087500e-02 4.44508754e-02 8.47488135e-03 6.25083127e-04\n",
            " 2.24904401e-04 8.25008204e-03 4.47519876e-02 2.22980823e-02\n",
            " 3.55529068e-02 2.01881954e-02 2.14479211e-02 1.16495255e-04\n",
            " 0.00000000e+00 2.81637021e-02 2.51961374e-02 1.83835536e-02\n",
            " 5.00059796e-02 2.14696901e-02 1.82916951e-02 0.00000000e+00\n",
            " 0.00000000e+00 7.51555601e-03 3.63525440e-02 4.54886759e-02\n",
            " 1.71962127e-02 1.46752380e-02 2.47851320e-02 1.09238117e-04\n",
            " 1.92166943e-04 3.74530299e-03 2.39184421e-02 1.70753195e-02\n",
            " 1.62070254e-02 2.60742506e-02 2.70240002e-02 3.22704245e-03\n",
            " 6.77217436e-05 2.23300554e-03 1.45037578e-02 1.05342548e-02\n",
            " 2.66241506e-02 2.19220821e-02 1.57422210e-02 4.35037515e-03]\n"
          ]
        }
      ]
    },
    {
      "cell_type": "code",
      "source": [
        "feature_imp = pd.Series(model.feature_importances_,index=mnist.feature_names).sort_values(ascending=False)\n",
        "feature_imp = feature_imp[:20]\n",
        "print(feature_imp)"
      ],
      "metadata": {
        "colab": {
          "base_uri": "https://localhost:8080/"
        },
        "id": "zLY703bcSbDs",
        "outputId": "e36bba5f-5472-4ef4-ce4a-fcf8ec0f6738"
      },
      "execution_count": null,
      "outputs": [
        {
          "output_type": "stream",
          "name": "stdout",
          "text": [
            "pixel_4_4    0.050006\n",
            "pixel_5_3    0.045489\n",
            "pixel_3_2    0.044752\n",
            "pixel_2_5    0.044451\n",
            "pixel_5_2    0.036353\n",
            "pixel_1_5    0.036225\n",
            "pixel_3_4    0.035553\n",
            "pixel_2_4    0.032509\n",
            "pixel_4_1    0.028164\n",
            "pixel_2_3    0.027713\n",
            "pixel_6_6    0.027024\n",
            "pixel_7_4    0.026624\n",
            "pixel_6_5    0.026074\n",
            "pixel_1_2    0.025798\n",
            "pixel_4_2    0.025196\n",
            "pixel_5_6    0.024785\n",
            "pixel_6_2    0.023918\n",
            "pixel_0_5    0.022924\n",
            "pixel_0_2    0.022684\n",
            "pixel_3_3    0.022298\n",
            "dtype: float64\n"
          ]
        }
      ]
    },
    {
      "cell_type": "code",
      "source": [
        "print(feature_imp.index)"
      ],
      "metadata": {
        "colab": {
          "base_uri": "https://localhost:8080/"
        },
        "id": "oltZKojYY849",
        "outputId": "232053d3-ff3a-41be-9317-180380f0c851"
      },
      "execution_count": null,
      "outputs": [
        {
          "output_type": "stream",
          "name": "stdout",
          "text": [
            "Index(['pixel_4_4', 'pixel_5_3', 'pixel_3_2', 'pixel_2_5', 'pixel_5_2',\n",
            "       'pixel_1_5', 'pixel_3_4', 'pixel_2_4', 'pixel_4_1', 'pixel_2_3',\n",
            "       'pixel_6_6', 'pixel_7_4', 'pixel_6_5', 'pixel_1_2', 'pixel_4_2',\n",
            "       'pixel_5_6', 'pixel_6_2', 'pixel_0_5', 'pixel_0_2', 'pixel_3_3'],\n",
            "      dtype='object')\n"
          ]
        }
      ]
    },
    {
      "cell_type": "code",
      "source": [
        "%matplotlib inline\n",
        "# Creating a bar plot\n",
        "sns.barplot(x=feature_imp, y=feature_imp.index)\n",
        "# Add labels to your graph\n",
        "plt.xlabel('Feature Importance Score')\n",
        "plt.ylabel('Features')\n",
        "plt.title(\"Visualizing Important Features\")\n",
        "plt.legend()\n",
        "plt.show()"
      ],
      "metadata": {
        "colab": {
          "base_uri": "https://localhost:8080/",
          "height": 312
        },
        "id": "eknxdQAdXKfG",
        "outputId": "d83fb3e3-8b4f-4bfa-b070-14b73b141280"
      },
      "execution_count": null,
      "outputs": [
        {
          "output_type": "stream",
          "name": "stderr",
          "text": [
            "WARNING:matplotlib.legend:No artists with labels found to put in legend.  Note that artists whose label start with an underscore are ignored when legend() is called with no argument.\n"
          ]
        },
        {
          "output_type": "display_data",
          "data": {
            "text/plain": [
              "<Figure size 432x288 with 1 Axes>"
            ],
            "image/png": "[encoded data removed]"
          },
          "metadata": {
            "needs_background": "light"
          }
        }
      ]
    },
    {
      "cell_type": "code",
      "source": [
        "print(mnist['feature_names'].index('pixel_3_4'))\n",
        "arr2 = np.stack(feature_imp.index).tolist()\n",
        "arrTT = []\n",
        "for x in arr2:\n",
        "  arrTT.append(mnist['feature_names'].index(x))\n",
        "\n",
        "print(arrTT)\n",
        "Xnew = X[:,arrTT]\n",
        "print(Xnew)"
      ],
      "metadata": {
        "colab": {
          "base_uri": "https://localhost:8080/"
        },
        "id": "CEr65jXdZGkN",
        "outputId": "b7fed6c3-840c-405a-e738-946d491d9687"
      },
      "execution_count": null,
      "outputs": [
        {
          "output_type": "stream",
          "name": "stdout",
          "text": [
            "28\n",
            "[36, 43, 26, 21, 42, 13, 28, 20, 33, 19, 54, 60, 53, 10, 34, 46, 50, 5, 2, 27]\n",
            "[[ 0.  0. 12. ...  1.  5.  0.]\n",
            " [16. 16. 15. ...  5.  0. 16.]\n",
            " [15. 16.  1. ... 12.  0.  6.]\n",
            " ...\n",
            " [16. 14.  8. ...  1.  1. 16.]\n",
            " [14.  0. 16. ...  0.  2. 10.]\n",
            " [15.  6.  5. ...  1. 10. 16.]]\n"
          ]
        }
      ]
    },
    {
      "cell_type": "code",
      "source": [
        "X_train, X_test, y_train, y_test = train_test_split(X, y, test_size=0.33, random_state=42)\n",
        "model = RandomForestClassifier()\n",
        "model.fit(\n",
        "  X_train, y_train\n",
        ")"
      ],
      "metadata": {
        "colab": {
          "base_uri": "https://localhost:8080/",
          "height": 74
        },
        "id": "IUeQnRWYZmmW",
        "outputId": "0c36d228-4f91-410b-a7a4-70fd21f1c234"
      },
      "execution_count": null,
      "outputs": [
        {
          "output_type": "execute_result",
          "data": {
            "text/plain": [
              "RandomForestClassifier()"
            ],
            "text/html": [
              "<style>#sk-container-id-3 {color: black;background-color: white;}#sk-container-id-3 pre{padding: 0;}#sk-container-id-3 div.sk-toggleable {background-color: white;}#sk-container-id-3 label.sk-toggleable__label {cursor: pointer;display: block;width: 100%;margin-bottom: 0;padding: 0.3em;box-sizing: border-box;text-align: center;}#sk-container-id-3 label.sk-toggleable__label-arrow:before {content: \"▸\";float: left;margin-right: 0.25em;color: #696969;}#sk-container-id-3 label.sk-toggleable__label-arrow:hover:before {color: black;}#sk-container-id-3 div.sk-estimator:hover label.sk-toggleable__label-arrow:before {color: black;}#sk-container-id-3 div.sk-toggleable__content {max-height: 0;max-width: 0;overflow: hidden;text-align: left;background-color: #f0f8ff;}#sk-container-id-3 div.sk-toggleable__content pre {margin: 0.2em;color: black;border-radius: 0.25em;background-color: #f0f8ff;}#sk-container-id-3 input.sk-toggleable__control:checked~div.sk-toggleable__content {max-height: 200px;max-width: 100%;overflow: auto;}#sk-container-id-3 input.sk-toggleable__control:checked~label.sk-toggleable__label-arrow:before {content: \"▾\";}#sk-container-id-3 div.sk-estimator input.sk-toggleable__control:checked~label.sk-toggleable__label {background-color: #d4ebff;}#sk-container-id-3 div.sk-label input.sk-toggleable__control:checked~label.sk-toggleable__label {background-color: #d4ebff;}#sk-container-id-3 input.sk-hidden--visually {border: 0;clip: rect(1px 1px 1px 1px);clip: rect(1px, 1px, 1px, 1px);height: 1px;margin: -1px;overflow: hidden;padding: 0;position: absolute;width: 1px;}#sk-container-id-3 div.sk-estimator {font-family: monospace;background-color: #f0f8ff;border: 1px dotted black;border-radius: 0.25em;box-sizing: border-box;margin-bottom: 0.5em;}#sk-container-id-3 div.sk-estimator:hover {background-color: #d4ebff;}#sk-container-id-3 div.sk-parallel-item::after {content: \"\";width: 100%;border-bottom: 1px solid gray;flex-grow: 1;}#sk-container-id-3 div.sk-label:hover label.sk-toggleable__label {background-color: #d4ebff;}#sk-container-id-3 div.sk-serial::before {content: \"\";position: absolute;border-left: 1px solid gray;box-sizing: border-box;top: 0;bottom: 0;left: 50%;z-index: 0;}#sk-container-id-3 div.sk-serial {display: flex;flex-direction: column;align-items: center;background-color: white;padding-right: 0.2em;padding-left: 0.2em;position: relative;}#sk-container-id-3 div.sk-item {position: relative;z-index: 1;}#sk-container-id-3 div.sk-parallel {display: flex;align-items: stretch;justify-content: center;background-color: white;position: relative;}#sk-container-id-3 div.sk-item::before, #sk-container-id-3 div.sk-parallel-item::before {content: \"\";position: absolute;border-left: 1px solid gray;box-sizing: border-box;top: 0;bottom: 0;left: 50%;z-index: -1;}#sk-container-id-3 div.sk-parallel-item {display: flex;flex-direction: column;z-index: 1;position: relative;background-color: white;}#sk-container-id-3 div.sk-parallel-item:first-child::after {align-self: flex-end;width: 50%;}#sk-container-id-3 div.sk-parallel-item:last-child::after {align-self: flex-start;width: 50%;}#sk-container-id-3 div.sk-parallel-item:only-child::after {width: 0;}#sk-container-id-3 div.sk-dashed-wrapped {border: 1px dashed gray;margin: 0 0.4em 0.5em 0.4em;box-sizing: border-box;padding-bottom: 0.4em;background-color: white;}#sk-container-id-3 div.sk-label label {font-family: monospace;font-weight: bold;display: inline-block;line-height: 1.2em;}#sk-container-id-3 div.sk-label-container {text-align: center;}#sk-container-id-3 div.sk-container {/* jupyter's `normalize.less` sets `[hidden] { display: none; }` but bootstrap.min.css set `[hidden] { display: none !important; }` so we also need the `!important` here to be able to override the default hidden behavior on the sphinx rendered scikit-learn.org. See: https://github.com/scikit-learn/scikit-learn/issues/21755 */display: inline-block !important;position: relative;}#sk-container-id-3 div.sk-text-repr-fallback {display: none;}</style><div id=\"sk-container-id-3\" class=\"sk-top-container\"><div class=\"sk-text-repr-fallback\"><pre>RandomForestClassifier()</pre><b>In a Jupyter environment, please rerun this cell to show the HTML representation or trust the notebook. <br />On GitHub, the HTML representation is unable to render, please try loading this page with nbviewer.org.</b></div><div class=\"sk-container\" hidden><div class=\"sk-item\"><div class=\"sk-estimator sk-toggleable\"><input class=\"sk-toggleable__control sk-hidden--visually\" id=\"sk-estimator-id-3\" type=\"checkbox\" checked><label for=\"sk-estimator-id-3\" class=\"sk-toggleable__label sk-toggleable__label-arrow\">RandomForestClassifier</label><div class=\"sk-toggleable__content\"><pre>RandomForestClassifier()</pre></div></div></div></div></div>"
            ]
          },
          "metadata": {},
          "execution_count": 28
        }
      ]
    },
    {
      "cell_type": "code",
      "source": [
        "y_pred = model.predict(X_test)\n",
        "print(metrics.classification_report(y_test, y_pred))\n",
        "accuracyRandomNotSelectionFeature = metrics.accuracy_score(y_test, y_pred)\n",
        "precisionRandomNotSelectionFeature =metrics.precision_score(y_test, y_pred,average='weighted')\n",
        "recallRandomNotSelectionFeature = metrics.recall_score(y_test, y_pred,average='weighted')\n",
        "f1RandomNotSelectionFeature = metrics.f1_score(y_test, y_pred,average='weighted')\n",
        "\n"
      ],
      "metadata": {
        "colab": {
          "base_uri": "https://localhost:8080/"
        },
        "id": "_7wwHqMBaNiT",
        "outputId": "6ca51612-cd78-46c9-aac5-ab4bc435810c"
      },
      "execution_count": null,
      "outputs": [
        {
          "output_type": "stream",
          "name": "stdout",
          "text": [
            "              precision    recall  f1-score   support\n",
            "\n",
            "           0       1.00      0.98      0.99        55\n",
            "           1       0.96      1.00      0.98        55\n",
            "           2       1.00      1.00      1.00        52\n",
            "           3       1.00      0.95      0.97        56\n",
            "           4       0.97      1.00      0.98        64\n",
            "           5       0.96      0.97      0.97        73\n",
            "           6       0.98      0.98      0.98        57\n",
            "           7       0.98      0.98      0.98        62\n",
            "           8       0.94      0.96      0.95        52\n",
            "           9       0.98      0.96      0.97        68\n",
            "\n",
            "    accuracy                           0.98       594\n",
            "   macro avg       0.98      0.98      0.98       594\n",
            "weighted avg       0.98      0.98      0.98       594\n",
            "\n"
          ]
        }
      ]
    },
    {
      "cell_type": "code",
      "source": [
        "X_train, X_test, y_train, y_test = train_test_split(Xnew, y, test_size=0.33, random_state=42)\n",
        "model = RandomForestClassifier()\n",
        "model.fit(\n",
        "  X_train, y_train\n",
        ")"
      ],
      "metadata": {
        "colab": {
          "base_uri": "https://localhost:8080/",
          "height": 74
        },
        "id": "4QDZDQKJbDh6",
        "outputId": "1df24a7a-53da-44a1-8a71-cb8f8965098c"
      },
      "execution_count": null,
      "outputs": [
        {
          "output_type": "execute_result",
          "data": {
            "text/plain": [
              "RandomForestClassifier()"
            ],
            "text/html": [
              "<style>#sk-container-id-5 {color: black;background-color: white;}#sk-container-id-5 pre{padding: 0;}#sk-container-id-5 div.sk-toggleable {background-color: white;}#sk-container-id-5 label.sk-toggleable__label {cursor: pointer;display: block;width: 100%;margin-bottom: 0;padding: 0.3em;box-sizing: border-box;text-align: center;}#sk-container-id-5 label.sk-toggleable__label-arrow:before {content: \"▸\";float: left;margin-right: 0.25em;color: #696969;}#sk-container-id-5 label.sk-toggleable__label-arrow:hover:before {color: black;}#sk-container-id-5 div.sk-estimator:hover label.sk-toggleable__label-arrow:before {color: black;}#sk-container-id-5 div.sk-toggleable__content {max-height: 0;max-width: 0;overflow: hidden;text-align: left;background-color: #f0f8ff;}#sk-container-id-5 div.sk-toggleable__content pre {margin: 0.2em;color: black;border-radius: 0.25em;background-color: #f0f8ff;}#sk-container-id-5 input.sk-toggleable__control:checked~div.sk-toggleable__content {max-height: 200px;max-width: 100%;overflow: auto;}#sk-container-id-5 input.sk-toggleable__control:checked~label.sk-toggleable__label-arrow:before {content: \"▾\";}#sk-container-id-5 div.sk-estimator input.sk-toggleable__control:checked~label.sk-toggleable__label {background-color: #d4ebff;}#sk-container-id-5 div.sk-label input.sk-toggleable__control:checked~label.sk-toggleable__label {background-color: #d4ebff;}#sk-container-id-5 input.sk-hidden--visually {border: 0;clip: rect(1px 1px 1px 1px);clip: rect(1px, 1px, 1px, 1px);height: 1px;margin: -1px;overflow: hidden;padding: 0;position: absolute;width: 1px;}#sk-container-id-5 div.sk-estimator {font-family: monospace;background-color: #f0f8ff;border: 1px dotted black;border-radius: 0.25em;box-sizing: border-box;margin-bottom: 0.5em;}#sk-container-id-5 div.sk-estimator:hover {background-color: #d4ebff;}#sk-container-id-5 div.sk-parallel-item::after {content: \"\";width: 100%;border-bottom: 1px solid gray;flex-grow: 1;}#sk-container-id-5 div.sk-label:hover label.sk-toggleable__label {background-color: #d4ebff;}#sk-container-id-5 div.sk-serial::before {content: \"\";position: absolute;border-left: 1px solid gray;box-sizing: border-box;top: 0;bottom: 0;left: 50%;z-index: 0;}#sk-container-id-5 div.sk-serial {display: flex;flex-direction: column;align-items: center;background-color: white;padding-right: 0.2em;padding-left: 0.2em;position: relative;}#sk-container-id-5 div.sk-item {position: relative;z-index: 1;}#sk-container-id-5 div.sk-parallel {display: flex;align-items: stretch;justify-content: center;background-color: white;position: relative;}#sk-container-id-5 div.sk-item::before, #sk-container-id-5 div.sk-parallel-item::before {content: \"\";position: absolute;border-left: 1px solid gray;box-sizing: border-box;top: 0;bottom: 0;left: 50%;z-index: -1;}#sk-container-id-5 div.sk-parallel-item {display: flex;flex-direction: column;z-index: 1;position: relative;background-color: white;}#sk-container-id-5 div.sk-parallel-item:first-child::after {align-self: flex-end;width: 50%;}#sk-container-id-5 div.sk-parallel-item:last-child::after {align-self: flex-start;width: 50%;}#sk-container-id-5 div.sk-parallel-item:only-child::after {width: 0;}#sk-container-id-5 div.sk-dashed-wrapped {border: 1px dashed gray;margin: 0 0.4em 0.5em 0.4em;box-sizing: border-box;padding-bottom: 0.4em;background-color: white;}#sk-container-id-5 div.sk-label label {font-family: monospace;font-weight: bold;display: inline-block;line-height: 1.2em;}#sk-container-id-5 div.sk-label-container {text-align: center;}#sk-container-id-5 div.sk-container {/* jupyter's `normalize.less` sets `[hidden] { display: none; }` but bootstrap.min.css set `[hidden] { display: none !important; }` so we also need the `!important` here to be able to override the default hidden behavior on the sphinx rendered scikit-learn.org. See: https://github.com/scikit-learn/scikit-learn/issues/21755 */display: inline-block !important;position: relative;}#sk-container-id-5 div.sk-text-repr-fallback {display: none;}</style><div id=\"sk-container-id-5\" class=\"sk-top-container\"><div class=\"sk-text-repr-fallback\"><pre>RandomForestClassifier()</pre><b>In a Jupyter environment, please rerun this cell to show the HTML representation or trust the notebook. <br />On GitHub, the HTML representation is unable to render, please try loading this page with nbviewer.org.</b></div><div class=\"sk-container\" hidden><div class=\"sk-item\"><div class=\"sk-estimator sk-toggleable\"><input class=\"sk-toggleable__control sk-hidden--visually\" id=\"sk-estimator-id-5\" type=\"checkbox\" checked><label for=\"sk-estimator-id-5\" class=\"sk-toggleable__label sk-toggleable__label-arrow\">RandomForestClassifier</label><div class=\"sk-toggleable__content\"><pre>RandomForestClassifier()</pre></div></div></div></div></div>"
            ]
          },
          "metadata": {},
          "execution_count": 33
        }
      ]
    },
    {
      "cell_type": "code",
      "source": [
        "y_pred = model.predict(X_test)\n",
        "print(metrics.classification_report(y_test, y_pred))\n",
        "accuracyRandomSelcetionFeature = metrics.accuracy_score(y_test, y_pred)\n",
        "precisionRandomSelcetionFeature =metrics.precision_score(y_test, y_pred,average='weighted')\n",
        "recallRandomSelcetionFeature = metrics.recall_score(y_test, y_pred,average='weighted')\n",
        "f1RandomSelcetionFeature = metrics.f1_score(y_test, y_pred,average='weighted')\n"
      ],
      "metadata": {
        "colab": {
          "base_uri": "https://localhost:8080/"
        },
        "id": "1rNRC40ZbG2e",
        "outputId": "aa720eac-dbcd-4dae-e322-3ca942bceb25"
      },
      "execution_count": null,
      "outputs": [
        {
          "output_type": "stream",
          "name": "stdout",
          "text": [
            "              precision    recall  f1-score   support\n",
            "\n",
            "           0       1.00      0.98      0.99        55\n",
            "           1       0.90      0.95      0.92        55\n",
            "           2       0.96      0.98      0.97        52\n",
            "           3       0.96      0.91      0.94        56\n",
            "           4       0.90      0.95      0.92        64\n",
            "           5       1.00      0.97      0.99        73\n",
            "           6       1.00      0.98      0.99        57\n",
            "           7       0.92      0.98      0.95        62\n",
            "           8       0.94      0.92      0.93        52\n",
            "           9       0.97      0.91      0.94        68\n",
            "\n",
            "    accuracy                           0.95       594\n",
            "   macro avg       0.96      0.95      0.95       594\n",
            "weighted avg       0.96      0.95      0.95       594\n",
            "\n"
          ]
        }
      ]
    },
    {
      "cell_type": "code",
      "source": [
        "t = PrettyTable([\"Metrics\",\"Random Not Selection Feature\", \"Random Selection Feature\"])\n",
        "t.add_row([\"Accuracy\", round(accuracyRandomNotSelectionFeature, 4), round(accuracyRandomSelcetionFeature, 4)])\n",
        "t.add_row([\"Precision\",round(precisionRandomNotSelectionFeature, 4) ,round(precisionRandomSelcetionFeature, 4) ])\n",
        "t.add_row([\"Recall\",round(recallRandomNotSelectionFeature, 4) ,round(recallRandomSelcetionFeature, 4) ])\n",
        "t.add_row([\"F1\",round(f1RandomNotSelectionFeature, 4) ,round(f1RandomSelcetionFeature, 4)  ])\n",
        "print(t)"
      ],
      "metadata": {
        "colab": {
          "base_uri": "https://localhost:8080/"
        },
        "id": "d5h3LGL_bZn_",
        "outputId": "35e2ab09-5c57-44a3-e574-ffc5c24d7bee"
      },
      "execution_count": null,
      "outputs": [
        {
          "output_type": "stream",
          "name": "stdout",
          "text": [
            "+-----------+------------------------------+--------------------------+\n",
            "|  Metrics  | Random Not Selection Feature | Random Selection Feature |\n",
            "+-----------+------------------------------+--------------------------+\n",
            "|  Accuracy |            0.9781            |          0.9545          |\n",
            "| Precision |            0.9784            |          0.9558          |\n",
            "|   Recall  |            0.9781            |          0.9545          |\n",
            "|     F1    |            0.9781            |          0.9547          |\n",
            "+-----------+------------------------------+--------------------------+\n"
          ]
        }
      ]
    },
    {
      "cell_type": "markdown",
      "source": [
        "#Task 2. \n",
        "For given bank dataset (bank.csv) having the following attributes :\n",
        "1.\t**age** (numeric)\n",
        "2.\t**job** : type of job (categorical: 'admin.','blue-collar','entrepreneur','housemaid','management','retired','self-employed','services','student','technician','unemployed','unknown')\n",
        "3.\t**marital** : marital status (categorical: 'divorced','married','single','unknown'; note: 'divorced' means divorced or widowed)\n",
        "4.\t**education** (categorical: 'basic.4y','basic.6y','basic.9y','high.school','illiterate','professional.course','university.degree','unknown')\n",
        "5.\t**default**: has credit in default? (categorical: 'no','yes','unknown')\n",
        "6.\t**housing**: has housing loan? (categorical: 'no','yes','unknown')\n",
        "7.\t**loan**: has personal loan? (categorical: 'no','yes','unknown')\n",
        "8.\t**contact**: contact communication type (categorical: 'cellular','telephone')\n",
        "9.\t**month**: last contact month of year (categorical: 'jan', 'feb', 'mar', ..., 'nov', 'dec')\n",
        "10.\t**day_of_week**: last contact day of the week (categorical: 'mon','tue','wed','thu','fri')\n",
        "11.\t**duration**: last contact duration, in seconds (numeric). Important note: this attribute highly affects the output target (e.g., if duration=0 then y='no'). Yet, the duration is not known before a call is performed. Also, after the end of the call y is obviously known. Thus, this input should only be included for benchmark purposes and should be discarded if the intention is to have a realistic predictive model.\n",
        "12.\t**campaign**: number of contacts performed during this campaign and for this client (numeric, includes last contact)\n",
        "13.\t**pdays**: number of days that passed by after the client was last contacted from a previous campaign (numeric; 999 means client was not previously contacted)\n",
        "14.\t**previous**: number of contacts performed before this campaign and for this client (numeric)\n",
        "15.\t**poutcome**: outcome of the previous marketing campaign (categorical: 'failure','nonexistent','success')\n",
        "Output variable (desired target):\n",
        "16.\t**y**. has the client subscribed a term deposit? (binary: 'yes','no')\n",
        "\n"
      ],
      "metadata": {
        "id": "b52OPWPD2afi"
      }
    },
    {
      "cell_type": "markdown",
      "source": [
        "#3.1. Apply StandardScaler() function to columns that contains numerical data ('age', 'balance', 'day', 'campaign', 'pdays', 'previous')"
      ],
      "metadata": {
        "id": "q89LEvT7dqaZ"
      }
    },
    {
      "cell_type": "code",
      "source": [
        "drive.mount('/content/gdrive')\n",
        "%cd '/content/gdrive/MyDrive/Data/'"
      ],
      "metadata": {
        "id": "8vx3mfIidu4P",
        "colab": {
          "base_uri": "https://localhost:8080/"
        },
        "outputId": "d0233cba-cbaf-4993-eb8e-ab12ec4dabc3"
      },
      "execution_count": null,
      "outputs": [
        {
          "output_type": "stream",
          "name": "stdout",
          "text": [
            "Drive already mounted at /content/gdrive; to attempt to forcibly remount, call drive.mount(\"/content/gdrive\", force_remount=True).\n",
            "/content/gdrive/MyDrive/Data\n"
          ]
        }
      ]
    },
    {
      "cell_type": "code",
      "source": [
        "data = pd.read_csv(\"bank.csv\")\n",
        "X = data[['age', 'balance', 'day', 'campaign', 'pdays', 'previous']]\n",
        "print(X)\n",
        "scale = StandardScaler()\n",
        "scaled_X = scale.fit_transform(X)\n",
        "scaled_X"
      ],
      "metadata": {
        "colab": {
          "base_uri": "https://localhost:8080/"
        },
        "id": "7MiQXz5mfdmH",
        "outputId": "6d5bb3d6-d44d-47d1-d6d3-807daac80fcc"
      },
      "execution_count": null,
      "outputs": [
        {
          "output_type": "stream",
          "name": "stdout",
          "text": [
            "       age  balance  day  campaign  pdays  previous\n",
            "0       59     2343    5         1     -1         0\n",
            "1       56       45    5         1     -1         0\n",
            "2       41     1270    5         1     -1         0\n",
            "3       55     2476    5         1     -1         0\n",
            "4       54      184    5         2     -1         0\n",
            "...    ...      ...  ...       ...    ...       ...\n",
            "11157   33        1   20         1     -1         0\n",
            "11158   39      733   16         4     -1         0\n",
            "11159   32       29   19         2     -1         0\n",
            "11160   43        0    8         2    172         5\n",
            "11161   34        0    9         1     -1         0\n",
            "\n",
            "[11162 rows x 6 columns]\n"
          ]
        },
        {
          "output_type": "execute_result",
          "data": {
            "text/plain": [
              "array([[ 1.49150488,  0.25252514, -1.26574556, -0.55416834, -0.48118405,\n",
              "        -0.36325984],\n",
              "       [ 1.23967567, -0.4599736 , -1.26574556, -0.55416834, -0.48118405,\n",
              "        -0.36325984],\n",
              "       [-0.0194704 , -0.0801603 , -1.26574556, -0.55416834, -0.48118405,\n",
              "        -0.36325984],\n",
              "       ...,\n",
              "       [-0.77495804, -0.46493443,  0.39689074, -0.18678537, -0.48118405,\n",
              "        -0.36325984],\n",
              "       [ 0.14841574, -0.47392593, -0.90946635, -0.18678537,  1.10957066,\n",
              "         1.81833188],\n",
              "       [-0.6070719 , -0.47392593, -0.79070662, -0.55416834, -0.48118405,\n",
              "        -0.36325984]])"
            ]
          },
          "metadata": {},
          "execution_count": 9
        }
      ]
    },
    {
      "cell_type": "markdown",
      "source": [
        "#3.2. Apply Encode Categorical Value (OneHotEncoder) to transfrom categorical data to numerical data ('job', 'marital', 'education', 'default', 'housing', 'loan', 'contact', 'month', 'poutcome')"
      ],
      "metadata": {
        "id": "r7acR0TxdvY8"
      }
    },
    {
      "cell_type": "code",
      "source": [
        "columns = ['job', 'marital', 'education', 'default', 'housing', 'loan', 'contact', 'month', 'poutcome']\n",
        "\n",
        "enc = OneHotEncoder(categories='auto',sparse=False)\n",
        "Xenc = enc.fit_transform(data[columns])\n",
        "numerical_columns = [c for c in data.columns if c not in columns]\n",
        "print(numerical_columns)\n",
        "X = np.concatenate([data[numerical_columns], Xenc], axis=1)\n",
        "data['deposit']=data['deposit'].replace(['yes','no'], [1,0])\n",
        "y = data['deposit'].values\n",
        "X[0:,7][X[0:,7] == \"yes\"] = 1\n",
        "X[0:,7][X[0:,7] == \"no\"] = 0\n",
        "X"
      ],
      "metadata": {
        "id": "egtgBmAtd0um",
        "colab": {
          "base_uri": "https://localhost:8080/"
        },
        "outputId": "634ef2d9-e3cd-40a6-b340-12dd6cf92e6a"
      },
      "execution_count": null,
      "outputs": [
        {
          "output_type": "stream",
          "name": "stdout",
          "text": [
            "['age', 'balance', 'day', 'duration', 'campaign', 'pdays', 'previous', 'deposit']\n"
          ]
        },
        {
          "output_type": "stream",
          "name": "stderr",
          "text": [
            "/usr/local/lib/python3.9/dist-packages/sklearn/preprocessing/_encoders.py:868: FutureWarning: `sparse` was renamed to `sparse_output` in version 1.2 and will be removed in 1.4. `sparse_output` is ignored unless you leave `sparse` to its default value.\n",
            "  warnings.warn(\n"
          ]
        },
        {
          "output_type": "execute_result",
          "data": {
            "text/plain": [
              "array([[59, 2343, 5, ..., 0.0, 0.0, 1.0],\n",
              "       [56, 45, 5, ..., 0.0, 0.0, 1.0],\n",
              "       [41, 1270, 5, ..., 0.0, 0.0, 1.0],\n",
              "       ...,\n",
              "       [32, 29, 19, ..., 0.0, 0.0, 1.0],\n",
              "       [43, 0, 8, ..., 0.0, 0.0, 0.0],\n",
              "       [34, 0, 9, ..., 0.0, 0.0, 1.0]], dtype=object)"
            ]
          },
          "metadata": {},
          "execution_count": 10
        }
      ]
    },
    {
      "cell_type": "markdown",
      "source": [
        "#3.3. Apply **Decision tree, Random forest, kNN, NaïveBayes** to preproceed dataset in the previous steps. Then compare the obtained results using **accuracy, precision, recall, f1** measures."
      ],
      "metadata": {
        "id": "K2Si6d69d1nh"
      }
    },
    {
      "cell_type": "code",
      "source": [
        "X_train, X_test, y_train, y_test = train_test_split(X, y, test_size=0.3, random_state=42)\n",
        "\n",
        "def train_model(type, X_train = X_train, y_train= y_train, X_test = X_test, y_test=y_test):\n",
        "  model = ''\n",
        "  name = ''\n",
        "  if(type == 0):\n",
        "    name = \"Random Forest\"\n",
        "    model=RandomForestClassifier(n_estimators=100)\n",
        "  if(type == 1):\n",
        "    name = \"NB\"\n",
        "    model = GaussianNB()\n",
        "  if(type == 2):\n",
        "    name = \"kNN\"\n",
        "    model = KNeighborsClassifier(n_neighbors=3)\n",
        "  if(type == 3):\n",
        "    name = \"Decision Tree\"\n",
        "    model = DecisionTreeClassifier()\n",
        "  if(type == 4):\n",
        "    name = \"SVM\"\n",
        "    model = svm.SVC(kernel='linear')\n",
        "  if(type == 5):\n",
        "    name = \"Logicstic\"\n",
        "    model = LogisticRegression()\n",
        "\n",
        "  model.fit(X_train,y_train)\n",
        "  y_pred = model.predict(X_test)\n",
        "  accuracy = metrics.accuracy_score(y_test, y_pred)\n",
        "  precision =metrics.precision_score(y_test, y_pred,average='weighted')\n",
        "  recall = metrics.recall_score(y_test, y_pred,average='weighted')\n",
        "  f1 = metrics.f1_score(y_test, y_pred,average='weighted')\n",
        "  return [name,round(accuracy,4),round(precision,4),round(recall,4),round(f1,4)]\n"
      ],
      "metadata": {
        "id": "Ouil-cf_d8jW"
      },
      "execution_count": null,
      "outputs": []
    },
    {
      "cell_type": "code",
      "source": [
        "t = PrettyTable([\"Name\",\"Accuracy\", \"Precision\",\"Recall\", \"F1\"])\n",
        "t.add_row(train_model(0))\n",
        "t.add_row(train_model(1))\n",
        "t.add_row(train_model(2))\n",
        "t.add_row(train_model(3))\n",
        "\n",
        "print(t)"
      ],
      "metadata": {
        "colab": {
          "base_uri": "https://localhost:8080/"
        },
        "id": "1ilp2DeBCJrN",
        "outputId": "47ae54a5-3693-4bc0-fad6-8f4142f5b4ac"
      },
      "execution_count": null,
      "outputs": [
        {
          "output_type": "stream",
          "name": "stdout",
          "text": [
            "+---------------+----------+-----------+--------+--------+\n",
            "|      Name     | Accuracy | Precision | Recall |   F1   |\n",
            "+---------------+----------+-----------+--------+--------+\n",
            "| Random Forest |   1.0    |    1.0    |  1.0   |  1.0   |\n",
            "|       NB      |  0.9994  |   0.9994  | 0.9994 | 0.9994 |\n",
            "|      kNN      |  0.7366  |   0.7365  | 0.7366 | 0.7364 |\n",
            "| Decision Tree |   1.0    |    1.0    |  1.0   |  1.0   |\n",
            "+---------------+----------+-----------+--------+--------+\n"
          ]
        }
      ]
    },
    {
      "cell_type": "markdown",
      "source": [
        "#3.4. Using selection feature to above dataset, then compare the classification results with those in Task 2.3. "
      ],
      "metadata": {
        "id": "SweVRB4meApP"
      }
    },
    {
      "cell_type": "markdown",
      "source": [],
      "metadata": {
        "id": "Rtuaxy5rGDDO"
      }
    },
    {
      "cell_type": "code",
      "source": [
        "X_new=feature_selection.SelectKBest(feature_selection.f_classif , k=10).fit_transform(X,y)\n",
        "X_train, X_test, y_train, y_test = train_test_split(X_new, y, test_size=0.3, random_state=42)\n",
        "\n",
        "t = PrettyTable([\"Name\",\"Accuracy\", \"Precision\",\"Recall\", \"F1\"])\n",
        "t.add_row(train_model(0,X_train, y_train, X_test, y_test))\n",
        "t.add_row(train_model(1,X_train, y_train, X_test, y_test))\n",
        "t.add_row(train_model(2,X_train, y_train, X_test, y_test))\n",
        "t.add_row(train_model(3,X_train, y_train, X_test, y_test))\n",
        "\n",
        "print(t)"
      ],
      "metadata": {
        "id": "seFBhqCSeC7C",
        "colab": {
          "base_uri": "https://localhost:8080/"
        },
        "outputId": "45df21c3-fe05-44e4-8371-c3fd1cc17a8f"
      },
      "execution_count": null,
      "outputs": [
        {
          "output_type": "stream",
          "name": "stderr",
          "text": [
            "/usr/local/lib/python3.9/dist-packages/sklearn/feature_selection/_univariate_selection.py:113: RuntimeWarning: divide by zero encountered in true_divide\n",
            "  f = msb / msw\n"
          ]
        },
        {
          "output_type": "stream",
          "name": "stdout",
          "text": [
            "+---------------+----------+-----------+--------+--------+\n",
            "|      Name     | Accuracy | Precision | Recall |   F1   |\n",
            "+---------------+----------+-----------+--------+--------+\n",
            "| Random Forest |   1.0    |    1.0    |  1.0   |  1.0   |\n",
            "|       NB      |   1.0    |    1.0    |  1.0   |  1.0   |\n",
            "|      kNN      |  0.8555  |   0.8563  | 0.8555 | 0.8555 |\n",
            "| Decision Tree |   1.0    |    1.0    |  1.0   |  1.0   |\n",
            "+---------------+----------+-----------+--------+--------+\n"
          ]
        }
      ]
    },
    {
      "cell_type": "markdown",
      "source": [
        "#Task 4. \n",
        "For a given dataset in the Lab #5 (**credit card dataset**), perform feature selection and thencompare the performance of selected classification algorithms (Decision Tree, kNN, Logistic Regression, SVM, Random Forest and NaiveBayes) based on accuracy, precision, recall, f1 measures.\n"
      ],
      "metadata": {
        "id": "Z5pp7_h-aP2u"
      }
    },
    {
      "cell_type": "code",
      "source": [
        "data=pd.read_csv('creditcard.csv')\n",
        "X = data.iloc[:,:-1].values\n",
        "y = data.iloc[:,-1].values\n",
        "X_new=feature_selection.SelectKBest(feature_selection.f_classif , k=10).fit_transform(X,y)\n",
        "X_train, X_test, y_train, y_test = train_test_split(X_new, y, test_size=0.3, random_state=42)\n",
        "t = PrettyTable([\"Name\",\"Accuracy\", \"Precision\",\"Recall\", \"F1\"])\n",
        "t.add_row(train_model(0,X_train, y_train, X_test, y_test))\n",
        "t.add_row(train_model(1,X_train, y_train, X_test, y_test))\n",
        "t.add_row(train_model(2,X_train, y_train, X_test, y_test))\n",
        "t.add_row(train_model(3,X_train, y_train, X_test, y_test))\n",
        "t.add_row(train_model(4,X_train, y_train, X_test, y_test))\n",
        "t.add_row(train_model(5,X_train, y_train, X_test, y_test))\n",
        "\n",
        "\n",
        "print(t)"
      ],
      "metadata": {
        "id": "Rw_-8FIf2KxW",
        "colab": {
          "base_uri": "https://localhost:8080/"
        },
        "outputId": "c8bc01a5-ec06-44ce-a662-26826654b219"
      },
      "execution_count": null,
      "outputs": [
        {
          "output_type": "stream",
          "name": "stdout",
          "text": [
            "+---------------+----------+-----------+--------+--------+\n",
            "|      Name     | Accuracy | Precision | Recall |   F1   |\n",
            "+---------------+----------+-----------+--------+--------+\n",
            "| Random Forest |  0.9997  |   0.9997  | 0.9997 | 0.9996 |\n",
            "|       NB      |  0.9908  |   0.9984  | 0.9908 | 0.9942 |\n",
            "|      kNN      |  0.9996  |   0.9995  | 0.9996 | 0.9995 |\n",
            "| Decision Tree |  0.9992  |   0.9992  | 0.9992 | 0.9992 |\n",
            "|      SVM      |  0.9994  |   0.9994  | 0.9994 | 0.9994 |\n",
            "|   Logicstic   |  0.9992  |   0.9992  | 0.9992 | 0.9992 |\n",
            "+---------------+----------+-----------+--------+--------+\n"
          ]
        }
      ]
    },
    {
      "cell_type": "markdown",
      "source": [
        "#Finally,\n",
        "Save a copy in your Github. Remember renaming the notebook."
      ],
      "metadata": {
        "id": "Ok7RGkea_b7n"
      }
    }
  ]
}